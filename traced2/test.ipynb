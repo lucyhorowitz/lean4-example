{
 "cells": [
  {
   "cell_type": "code",
   "execution_count": 1,
   "id": "0083cb15",
   "metadata": {},
   "outputs": [
    {
     "name": "stderr",
     "output_type": "stream",
     "text": [
      "\u001b[32m2025-04-16 20:56:25.153\u001b[0m | \u001b[1mINFO    \u001b[0m | \u001b[36mlean_dojo.data_extraction.trace\u001b[0m:\u001b[36mget_traced_repo_path\u001b[0m:\u001b[36m210\u001b[0m - \u001b[1mTracing LeanGitRepo(url='https://github.com/lucyhorowitz/lean4-example', commit='b89c9e80b28945d8e32945c6d99fa91a324dc5e5')\u001b[0m\n",
      "info: mathlib: cloning https://github.com/leanprover-community/mathlib4.git to '././.lake/packages/mathlib'\n",
      "info: batteries: cloning https://github.com/leanprover-community/batteries to '././.lake/packages/batteries'\n",
      "info: Qq: cloning https://github.com/leanprover-community/quote4 to '././.lake/packages/Qq'\n",
      "info: aesop: cloning https://github.com/leanprover-community/aesop to '././.lake/packages/aesop'\n",
      "info: proofwidgets: cloning https://github.com/leanprover-community/ProofWidgets4 to '././.lake/packages/proofwidgets'\n",
      "info: importGraph: cloning https://github.com/leanprover-community/import-graph to '././.lake/packages/importGraph'\n",
      "info: Cli: cloning https://github.com/leanprover/lean4-cli to '././.lake/packages/Cli'\n",
      "✔ [6/17] (Optional) Fetched proofwidgets:optRelease\n",
      "✔ [9/17] Built Cache.IO\n",
      "✔ [10/17] Built Cache.Hashing\n",
      "✔ [11/17] Built Cache.Requests\n",
      "✔ [12/17] Built Cache.Hashing:c.o\n",
      "✔ [13/17] Built Cache.IO:c.o\n",
      "✔ [14/17] Built Cache.Main\n",
      "✔ [15/17] Built Cache.Requests:c.o\n",
      "✔ [16/17] Built Cache.Main:c.o\n",
      "✔ [17/17] Built cache\n"
     ]
    },
    {
     "name": "stdout",
     "output_type": "stream",
     "text": [
      "No files to download\n",
      "Decompressing 5011 file(s)\n",
      "Unpacked in 5514 ms\n",
      "Completed successfully!\n",
      "✖ [2258/2259] Building Lean4Example\n",
      "trace: .> LEAN_PATH=././.lake/packages/batteries/.lake/build/lib:././.lake/packages/Qq/.lake/build/lib:././.lake/packages/aesop/.lake/build/lib:././.lake/packages/proofwidgets/.lake/build/lib:././.lake/packages/Cli/.lake/build/lib:././.lake/packages/importGraph/.lake/build/lib:././.lake/packages/mathlib/.lake/build/lib:././.lake/build/lib DYLD_LIBRARY_PATH= /Users/lucyhorowitz/.elan/toolchains/leanprover--lean4---v4.11.0/bin/lean ././././Lean4Example.lean -R ./././. -o ././.lake/build/lib/Lean4Example.olean -i ././.lake/build/lib/Lean4Example.ilean -c ././.lake/build/ir/Lean4Example.c --json\n",
      "error: ././././Lean4Example.lean:10:17: ambiguous, possible interpretations \n",
      "  _root_.add_comm b : ∀ (b_1 : ℕ), b + b_1 = b_1 + b\n",
      "  \n",
      "  Nat.add_comm b : ∀ (m : ℕ), b + m = m + b\n",
      "error: ././././Lean4Example.lean:10:17: tactic 'rewrite' failed, equality or iff proof expected\n",
      "  ?m.390\n",
      "a b c : ℕ\n",
      "⊢ a + (b + c) = a + c + b\n",
      "error: Lean exited with code 1\n",
      "Some required builds logged failures:\n",
      "- Lean4Example\n"
     ]
    },
    {
     "name": "stderr",
     "output_type": "stream",
     "text": [
      "error: build failed\n"
     ]
    },
    {
     "ename": "CalledProcessError",
     "evalue": "Command 'lake build' returned non-zero exit status 1.",
     "output_type": "error",
     "traceback": [
      "\u001b[31m---------------------------------------------------------------------------\u001b[39m",
      "\u001b[31mCalledProcessError\u001b[39m                        Traceback (most recent call last)",
      "\u001b[36mCell\u001b[39m\u001b[36m \u001b[39m\u001b[32mIn[1]\u001b[39m\u001b[32m, line 4\u001b[39m\n\u001b[32m      1\u001b[39m \u001b[38;5;28;01mfrom\u001b[39;00m\u001b[38;5;250m \u001b[39m\u001b[34;01mlean_dojo\u001b[39;00m\u001b[38;5;250m \u001b[39m\u001b[38;5;28;01mimport\u001b[39;00m LeanGitRepo, trace\n\u001b[32m      3\u001b[39m repo = LeanGitRepo(\u001b[33m\"\u001b[39m\u001b[33mhttps://github.com/lucyhorowitz/lean4-example\u001b[39m\u001b[33m\"\u001b[39m, \u001b[33m\"\u001b[39m\u001b[33mb89c9e80b28945d8e32945c6d99fa91a324dc5e5\u001b[39m\u001b[33m\"\u001b[39m)\n\u001b[32m----> \u001b[39m\u001b[32m4\u001b[39m \u001b[43mtrace\u001b[49m\u001b[43m(\u001b[49m\u001b[43mrepo\u001b[49m\u001b[43m,\u001b[49m\u001b[43m \u001b[49m\u001b[43mdst_dir\u001b[49m\u001b[43m=\u001b[49m\u001b[33;43m\"\u001b[39;49m\u001b[33;43mtraced\u001b[39;49m\u001b[33;43m\"\u001b[39;49m\u001b[43m,\u001b[49m\u001b[43mbuild_deps\u001b[49m\u001b[43m=\u001b[49m\u001b[38;5;28;43;01mFalse\u001b[39;49;00m\u001b[43m)\u001b[49m\n",
      "\u001b[36mFile \u001b[39m\u001b[32m~/Documents/GitHub/LeanDojo/src/lean_dojo/data_extraction/trace.py:247\u001b[39m, in \u001b[36mtrace\u001b[39m\u001b[34m(repo, dst_dir, build_deps)\u001b[39m\n\u001b[32m    242\u001b[39m     dst_dir = Path(dst_dir)\n\u001b[32m    243\u001b[39m     \u001b[38;5;28;01massert\u001b[39;00m (\n\u001b[32m    244\u001b[39m         \u001b[38;5;129;01mnot\u001b[39;00m dst_dir.exists()\n\u001b[32m    245\u001b[39m     ), \u001b[33mf\u001b[39m\u001b[33m\"\u001b[39m\u001b[33mThe destination directory \u001b[39m\u001b[38;5;132;01m{\u001b[39;00mdst_dir\u001b[38;5;132;01m}\u001b[39;00m\u001b[33m already exists.\u001b[39m\u001b[33m\"\u001b[39m\n\u001b[32m--> \u001b[39m\u001b[32m247\u001b[39m cached_path = \u001b[43mget_traced_repo_path\u001b[49m\u001b[43m(\u001b[49m\u001b[43mrepo\u001b[49m\u001b[43m,\u001b[49m\u001b[43m \u001b[49m\u001b[43mbuild_deps\u001b[49m\u001b[43m)\u001b[49m\n\u001b[32m    248\u001b[39m logger.info(\u001b[33mf\u001b[39m\u001b[33m\"\u001b[39m\u001b[33mLoading the traced repo from \u001b[39m\u001b[38;5;132;01m{\u001b[39;00mcached_path\u001b[38;5;132;01m}\u001b[39;00m\u001b[33m\"\u001b[39m)\n\u001b[32m    249\u001b[39m traced_repo = TracedRepo.load_from_disk(cached_path, build_deps)\n",
      "\u001b[36mFile \u001b[39m\u001b[32m~/Documents/GitHub/LeanDojo/src/lean_dojo/data_extraction/trace.py:213\u001b[39m, in \u001b[36mget_traced_repo_path\u001b[39m\u001b[34m(repo, build_deps)\u001b[39m\n\u001b[32m    211\u001b[39m \u001b[38;5;28;01mwith\u001b[39;00m working_directory() \u001b[38;5;28;01mas\u001b[39;00m tmp_dir:\n\u001b[32m    212\u001b[39m     logger.debug(\u001b[33mf\u001b[39m\u001b[33m\"\u001b[39m\u001b[33mWorking in the temporary directory \u001b[39m\u001b[38;5;132;01m{\u001b[39;00mtmp_dir\u001b[38;5;132;01m}\u001b[39;00m\u001b[33m\"\u001b[39m)\n\u001b[32m--> \u001b[39m\u001b[32m213\u001b[39m     \u001b[43m_trace\u001b[49m\u001b[43m(\u001b[49m\u001b[43mrepo\u001b[49m\u001b[43m,\u001b[49m\u001b[43m \u001b[49m\u001b[43mbuild_deps\u001b[49m\u001b[43m)\u001b[49m\n\u001b[32m    214\u001b[39m     src_dir = tmp_dir / repo.name\n\u001b[32m    215\u001b[39m     traced_repo = TracedRepo.from_traced_files(src_dir, build_deps)\n",
      "\u001b[36mFile \u001b[39m\u001b[32m~/Documents/GitHub/LeanDojo/src/lean_dojo/data_extraction/trace.py:140\u001b[39m, in \u001b[36m_trace\u001b[39m\u001b[34m(repo, build_deps)\u001b[39m\n\u001b[32m    138\u001b[39m     \u001b[38;5;28;01mexcept\u001b[39;00m CalledProcessError:\n\u001b[32m    139\u001b[39m         \u001b[38;5;28;01mpass\u001b[39;00m\n\u001b[32m--> \u001b[39m\u001b[32m140\u001b[39m \u001b[43mexecute\u001b[49m\u001b[43m(\u001b[49m\u001b[33;43m\"\u001b[39;49m\u001b[33;43mlake build\u001b[39;49m\u001b[33;43m\"\u001b[39;49m\u001b[43m)\u001b[49m\n\u001b[32m    142\u001b[39m \u001b[38;5;66;03m# Copy the Lean 4 stdlib into the path of packages.\u001b[39;00m\n\u001b[32m    143\u001b[39m lean_prefix = execute(\u001b[33mf\u001b[39m\u001b[33m\"\u001b[39m\u001b[33mlean --print-prefix\u001b[39m\u001b[33m\"\u001b[39m, capture_output=\u001b[38;5;28;01mTrue\u001b[39;00m)[\u001b[32m0\u001b[39m].strip()\n",
      "\u001b[36mFile \u001b[39m\u001b[32m~/Documents/GitHub/LeanDojo/src/lean_dojo/utils.py:111\u001b[39m, in \u001b[36mexecute\u001b[39m\u001b[34m(cmd, capture_output)\u001b[39m\n\u001b[32m    101\u001b[39m \u001b[38;5;250m\u001b[39m\u001b[33;03m\"\"\"Execute the shell command ``cmd`` and optionally return its output.\u001b[39;00m\n\u001b[32m    102\u001b[39m \n\u001b[32m    103\u001b[39m \u001b[33;03mArgs:\u001b[39;00m\n\u001b[32m   (...)\u001b[39m\u001b[32m    108\u001b[39m \u001b[33;03m    Optional[Tuple[str, str]]: The command's output, including stdout and stderr (None if ``capture_output == False``).\u001b[39;00m\n\u001b[32m    109\u001b[39m \u001b[33;03m\"\"\"\u001b[39;00m\n\u001b[32m    110\u001b[39m logger.debug(cmd)\n\u001b[32m--> \u001b[39m\u001b[32m111\u001b[39m res = \u001b[43msubprocess\u001b[49m\u001b[43m.\u001b[49m\u001b[43mrun\u001b[49m\u001b[43m(\u001b[49m\u001b[43mcmd\u001b[49m\u001b[43m,\u001b[49m\u001b[43m \u001b[49m\u001b[43mshell\u001b[49m\u001b[43m=\u001b[49m\u001b[38;5;28;43;01mTrue\u001b[39;49;00m\u001b[43m,\u001b[49m\u001b[43m \u001b[49m\u001b[43mcapture_output\u001b[49m\u001b[43m=\u001b[49m\u001b[43mcapture_output\u001b[49m\u001b[43m,\u001b[49m\u001b[43m \u001b[49m\u001b[43mcheck\u001b[49m\u001b[43m=\u001b[49m\u001b[38;5;28;43;01mTrue\u001b[39;49;00m\u001b[43m)\u001b[49m\n\u001b[32m    112\u001b[39m \u001b[38;5;28;01mif\u001b[39;00m \u001b[38;5;129;01mnot\u001b[39;00m capture_output:\n\u001b[32m    113\u001b[39m     \u001b[38;5;28;01mreturn\u001b[39;00m \u001b[38;5;28;01mNone\u001b[39;00m\n",
      "\u001b[36mFile \u001b[39m\u001b[32m/opt/miniconda3/envs/leandojo311/lib/python3.11/subprocess.py:571\u001b[39m, in \u001b[36mrun\u001b[39m\u001b[34m(input, capture_output, timeout, check, *popenargs, **kwargs)\u001b[39m\n\u001b[32m    569\u001b[39m     retcode = process.poll()\n\u001b[32m    570\u001b[39m     \u001b[38;5;28;01mif\u001b[39;00m check \u001b[38;5;129;01mand\u001b[39;00m retcode:\n\u001b[32m--> \u001b[39m\u001b[32m571\u001b[39m         \u001b[38;5;28;01mraise\u001b[39;00m CalledProcessError(retcode, process.args,\n\u001b[32m    572\u001b[39m                                  output=stdout, stderr=stderr)\n\u001b[32m    573\u001b[39m \u001b[38;5;28;01mreturn\u001b[39;00m CompletedProcess(process.args, retcode, stdout, stderr)\n",
      "\u001b[31mCalledProcessError\u001b[39m: Command 'lake build' returned non-zero exit status 1."
     ]
    }
   ],
   "source": [
    "from lean_dojo import LeanGitRepo, trace\n",
    "\n",
    "repo = LeanGitRepo(\"https://github.com/lucyhorowitz/lean4-example\", \"b89c9e80b28945d8e32945c6d99fa91a324dc5e5\")\n",
    "trace(repo, dst_dir=\"traced\",build_deps=False)"
   ]
  }
 ],
 "metadata": {
  "kernelspec": {
   "display_name": "leandojo311",
   "language": "python",
   "name": "python3"
  },
  "language_info": {
   "codemirror_mode": {
    "name": "ipython",
    "version": 3
   },
   "file_extension": ".py",
   "mimetype": "text/x-python",
   "name": "python",
   "nbconvert_exporter": "python",
   "pygments_lexer": "ipython3",
   "version": "3.11.11"
  }
 },
 "nbformat": 4,
 "nbformat_minor": 5
}
