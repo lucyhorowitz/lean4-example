{
 "cells": [
  {
   "cell_type": "code",
   "execution_count": 1,
   "id": "0083cb15",
   "metadata": {},
   "outputs": [
    {
     "name": "stderr",
     "output_type": "stream",
     "text": [
      "\u001b[32m2025-04-16 20:49:16.258\u001b[0m | \u001b[1mINFO    \u001b[0m | \u001b[36mlean_dojo.data_extraction.trace\u001b[0m:\u001b[36mget_traced_repo_path\u001b[0m:\u001b[36m210\u001b[0m - \u001b[1mTracing LeanGitRepo(url='https://github.com/lucyhorowitz/lean4-example', commit='398ef0a2e430aeba2faccefdcd211cee41279cff')\u001b[0m\n",
      "info: mathlib: cloning https://github.com/leanprover-community/mathlib4.git to '././.lake/packages/mathlib'\n",
      "info: batteries: cloning https://github.com/leanprover-community/batteries to '././.lake/packages/batteries'\n",
      "info: Qq: cloning https://github.com/leanprover-community/quote4 to '././.lake/packages/Qq'\n",
      "info: aesop: cloning https://github.com/leanprover-community/aesop to '././.lake/packages/aesop'\n",
      "info: proofwidgets: cloning https://github.com/leanprover-community/ProofWidgets4 to '././.lake/packages/proofwidgets'\n",
      "info: importGraph: cloning https://github.com/leanprover-community/import-graph to '././.lake/packages/importGraph'\n",
      "info: Cli: cloning https://github.com/leanprover/lean4-cli to '././.lake/packages/Cli'\n",
      "✔ [6/17] (Optional) Fetched proofwidgets:optRelease\n",
      "✔ [9/17] Built Cache.IO\n",
      "✔ [10/17] Built Cache.Hashing\n",
      "✔ [11/17] Built Cache.Requests\n",
      "✔ [12/17] Built Cache.Hashing:c.o\n",
      "✔ [13/17] Built Cache.IO:c.o\n",
      "✔ [14/17] Built Cache.Main\n",
      "✔ [15/17] Built Cache.Requests:c.o\n",
      "✔ [16/17] Built Cache.Main:c.o\n",
      "✔ [17/17] Built cache\n"
     ]
    },
    {
     "name": "stdout",
     "output_type": "stream",
     "text": [
      "No files to download\n",
      "Decompressing 5011 file(s)\n",
      "Unpacked in 5979 ms\n",
      "Completed successfully!\n",
      "✔ [10/11] Built Lean4Example\n",
      "Build completed successfully.\n"
     ]
    },
    {
     "name": "stderr",
     "output_type": "stream",
     "text": [
      "  0%|          | 0/1 [00:00<?, ?it/s]"
     ]
    },
    {
     "name": "stdout",
     "output_type": "stream",
     "text": [
      "✔ [10/11] Built Lean4Repl\n",
      "Build completed successfully.\n"
     ]
    },
    {
     "name": "stderr",
     "output_type": "stream",
     "text": [
      "2025-04-16 20:51:23,058\tINFO worker.py:1843 -- Started a local Ray instance. View the dashboard at \u001b[1m\u001b[32mhttp://127.0.0.1:8265 \u001b[39m\u001b[22m\n",
      "100%|██████████| 1/1 [00:00<00:00,  2.82it/s]\n",
      "2025-04-16 20:51:35,952\tINFO worker.py:1843 -- Started a local Ray instance. View the dashboard at \u001b[1m\u001b[32mhttp://127.0.0.1:8265 \u001b[39m\u001b[22m\n",
      "100%|██████████| 1/1 [00:00<00:00,  3.56it/s]\n",
      "\u001b[32m2025-04-16 20:52:18.726\u001b[0m | \u001b[1mINFO    \u001b[0m | \u001b[36mlean_dojo.data_extraction.trace\u001b[0m:\u001b[36mtrace\u001b[0m:\u001b[36m248\u001b[0m - \u001b[1mLoading the traced repo from /Users/lucyhorowitz/.cache/lean_dojo/lucyhorowitz-lean4-example-398ef0a2e430aeba2faccefdcd211cee41279cff/lean4-example\u001b[0m\n",
      "2025-04-16 20:52:19,640\tINFO worker.py:1843 -- Started a local Ray instance. View the dashboard at \u001b[1m\u001b[32mhttp://127.0.0.1:8265 \u001b[39m\u001b[22m\n",
      "100%|██████████| 1/1 [00:00<00:00,  3.14it/s]\n"
     ]
    },
    {
     "data": {
      "text/plain": [
       "TracedRepo(repo=LeanGitRepo(url='/Users/lucyhorowitz/.cache/lean_dojo/lucyhorowitz-lean4-example-398ef0a2e430aeba2faccefdcd211cee41279cff/lean4-example', commit='398ef0a2e430aeba2faccefdcd211cee41279cff'), dependencies={'lean4': LeanGitRepo(url='https://github.com/leanprover/lean4', commit='ec3042d94bd11a42430f9e14d39e26b1f880f99b'), 'batteries': LeanGitRepo(url='https://github.com/leanprover-community/batteries', commit='9c6c2d647e57b2b7a0b42dd8080c698bd33a1b6f'), 'Qq': LeanGitRepo(url='https://github.com/leanprover-community/quote4', commit='9d0bdd07bdfe53383567509348b1fe917fc08de4'), 'aesop': LeanGitRepo(url='https://github.com/leanprover-community/aesop', commit='deb279eb7be16848d0bc8387f80d6e41bcdbe738'), 'proofwidgets': LeanGitRepo(url='https://github.com/leanprover-community/ProofWidgets4', commit='a96aee5245720f588876021b6a0aa73efee49c76'), 'Cli': LeanGitRepo(url='https://github.com/leanprover/lean4-cli', commit='2cf1030dc2ae6b3632c84a09350b675ef3e347d0'), 'importGraph': LeanGitRepo(url='https://github.com/leanprover-community/import-graph', commit='1ef0b288623337cb37edd1222b9c26b4b77c6620'), 'mathlib': LeanGitRepo(url='https://github.com/leanprover-community/mathlib4', commit='20c73142afa995ac9c8fb80a9bb585a55ca38308')}, root_dir=PosixPath('/Users/lucyhorowitz/.cache/lean_dojo/lucyhorowitz-lean4-example-398ef0a2e430aeba2faccefdcd211cee41279cff/lean4-example'))"
      ]
     },
     "execution_count": 1,
     "metadata": {},
     "output_type": "execute_result"
    }
   ],
   "source": [
    "from lean_dojo import LeanGitRepo, trace\n",
    "\n",
    "repo = LeanGitRepo(\"https://github.com/lucyhorowitz/lean4-example\", \"398ef0a2e430aeba2faccefdcd211cee41279cff\")\n",
    "trace(repo, dst_dir=\"traced\",build_deps=False)"
   ]
  }
 ],
 "metadata": {
  "kernelspec": {
   "display_name": "leandojo311",
   "language": "python",
   "name": "python3"
  },
  "language_info": {
   "codemirror_mode": {
    "name": "ipython",
    "version": 3
   },
   "file_extension": ".py",
   "mimetype": "text/x-python",
   "name": "python",
   "nbconvert_exporter": "python",
   "pygments_lexer": "ipython3",
   "version": "3.11.11"
  }
 },
 "nbformat": 4,
 "nbformat_minor": 5
}
