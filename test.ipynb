{
 "cells": [
  {
   "cell_type": "code",
   "execution_count": 2,
   "id": "0083cb15",
   "metadata": {},
   "outputs": [
    {
     "name": "stderr",
     "output_type": "stream",
     "text": [
      "\u001b[32m2025-04-17 15:04:55.458\u001b[0m | \u001b[1mINFO    \u001b[0m | \u001b[36mlean_dojo.data_extraction.trace\u001b[0m:\u001b[36mtrace\u001b[0m:\u001b[36m248\u001b[0m - \u001b[1mLoading the traced repo from /Users/lucyhorowitz/.cache/lean_dojo/lucyhorowitz-lean4-example-e04bbbdb78f8d3d11e2d8a3c7e2dcf0c7f4c14d7/lean4-example\u001b[0m\n",
      "2025-04-17 15:04:56,856\tINFO worker.py:1843 -- Started a local Ray instance. View the dashboard at \u001b[1m\u001b[32mhttp://127.0.0.1:8266 \u001b[39m\u001b[22m\n",
      "100%|██████████| 1/1 [00:00<00:00,  2.92it/s]\n"
     ]
    },
    {
     "data": {
      "text/plain": [
       "TracedRepo(repo=LeanGitRepo(url='/Users/lucyhorowitz/.cache/lean_dojo/lucyhorowitz-lean4-example-e04bbbdb78f8d3d11e2d8a3c7e2dcf0c7f4c14d7/lean4-example', commit='e04bbbdb78f8d3d11e2d8a3c7e2dcf0c7f4c14d7'), dependencies={'lean4': LeanGitRepo(url='https://github.com/leanprover/lean4', commit='ec3042d94bd11a42430f9e14d39e26b1f880f99b'), 'batteries': LeanGitRepo(url='https://github.com/leanprover-community/batteries', commit='9c6c2d647e57b2b7a0b42dd8080c698bd33a1b6f'), 'Qq': LeanGitRepo(url='https://github.com/leanprover-community/quote4', commit='9d0bdd07bdfe53383567509348b1fe917fc08de4'), 'aesop': LeanGitRepo(url='https://github.com/leanprover-community/aesop', commit='deb279eb7be16848d0bc8387f80d6e41bcdbe738'), 'proofwidgets': LeanGitRepo(url='https://github.com/leanprover-community/ProofWidgets4', commit='a96aee5245720f588876021b6a0aa73efee49c76'), 'Cli': LeanGitRepo(url='https://github.com/leanprover/lean4-cli', commit='2cf1030dc2ae6b3632c84a09350b675ef3e347d0'), 'importGraph': LeanGitRepo(url='https://github.com/leanprover-community/import-graph', commit='1ef0b288623337cb37edd1222b9c26b4b77c6620'), 'mathlib': LeanGitRepo(url='https://github.com/leanprover-community/mathlib4', commit='20c73142afa995ac9c8fb80a9bb585a55ca38308')}, root_dir=PosixPath('/Users/lucyhorowitz/.cache/lean_dojo/lucyhorowitz-lean4-example-e04bbbdb78f8d3d11e2d8a3c7e2dcf0c7f4c14d7/lean4-example'))"
      ]
     },
     "execution_count": 2,
     "metadata": {},
     "output_type": "execute_result"
    }
   ],
   "source": [
    "from lean_dojo import LeanGitRepo, trace\n",
    "\n",
    "repo = LeanGitRepo(\"https://github.com/lucyhorowitz/lean4-example\", \"e04bbbdb78f8d3d11e2d8a3c7e2dcf0c7f4c14d7\")\n",
    "trace(repo,dst_dir=\"traced\", build_deps=False)"
   ]
  },
  {
   "cell_type": "code",
   "execution_count": null,
   "id": "3ce5509e",
   "metadata": {},
   "outputs": [],
   "source": []
  },
  {
   "cell_type": "code",
   "execution_count": null,
   "id": "9d57332f",
   "metadata": {},
   "outputs": [],
   "source": [
    "#!/usr/bin/env python3\n",
    "\n"
   ]
  }
 ],
 "metadata": {
  "kernelspec": {
   "display_name": "leandojo311",
   "language": "python",
   "name": "python3"
  },
  "language_info": {
   "codemirror_mode": {
    "name": "ipython",
    "version": 3
   },
   "file_extension": ".py",
   "mimetype": "text/x-python",
   "name": "python",
   "nbconvert_exporter": "python",
   "pygments_lexer": "ipython3",
   "version": "3.11.11"
  }
 },
 "nbformat": 4,
 "nbformat_minor": 5
}
