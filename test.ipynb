{
 "cells": [
  {
   "cell_type": "code",
   "execution_count": null,
   "id": "0083cb15",
   "metadata": {},
   "outputs": [
    {
     "name": "stderr",
     "output_type": "stream",
     "text": [
      "\u001b[32m2025-04-18 13:33:24.254\u001b[0m | \u001b[1mINFO    \u001b[0m | \u001b[36mlean_dojo.data_extraction.trace\u001b[0m:\u001b[36mget_traced_repo_path\u001b[0m:\u001b[36m210\u001b[0m - \u001b[1mTracing LeanGitRepo(url='https://github.com/lucyhorowitz/lean4-example', commit='35c68b1aa9a7ad1290db7471e5b9d3aa8d25912d')\u001b[0m\n",
      "info: mathlib: cloning https://github.com/leanprover-community/mathlib4.git to '././.lake/packages/mathlib'\n",
      "info: batteries: cloning https://github.com/leanprover-community/batteries to '././.lake/packages/batteries'\n",
      "info: Qq: cloning https://github.com/leanprover-community/quote4 to '././.lake/packages/Qq'\n",
      "info: aesop: cloning https://github.com/leanprover-community/aesop to '././.lake/packages/aesop'\n",
      "info: proofwidgets: cloning https://github.com/leanprover-community/ProofWidgets4 to '././.lake/packages/proofwidgets'\n",
      "info: importGraph: cloning https://github.com/leanprover-community/import-graph to '././.lake/packages/importGraph'\n",
      "info: Cli: cloning https://github.com/leanprover/lean4-cli to '././.lake/packages/Cli'\n",
      "✔ [6/17] (Optional) Fetched proofwidgets:optRelease\n",
      "✔ [9/17] Built Cache.IO\n",
      "✔ [10/17] Built Cache.Hashing\n",
      "✔ [11/17] Built Cache.Requests\n",
      "✔ [12/17] Built Cache.Hashing:c.o\n",
      "✔ [13/17] Built Cache.IO:c.o\n",
      "✔ [14/17] Built Cache.Main\n",
      "✔ [15/17] Built Cache.Requests:c.o\n",
      "✔ [16/17] Built Cache.Main:c.o\n",
      "✔ [17/17] Built cache\n"
     ]
    },
    {
     "name": "stdout",
     "output_type": "stream",
     "text": [
      "No files to download\n",
      "Decompressing 5011 file(s)\n",
      "Unpacked in 7193 ms\n",
      "Completed successfully!\n",
      "⚠ [2258/2259] Built Lean4Example\n",
      "warning: ././././Lean4Example.lean:40:8: declaration uses 'sorry'\n",
      "Build completed successfully.\n"
     ]
    },
    {
     "name": "stderr",
     "output_type": "stream",
     "text": [
      "  0%|          | 0/1 [00:05<?, ?it/s]"
     ]
    },
    {
     "name": "stdout",
     "output_type": "stream",
     "text": [
      "✔ [10/11] Built Lean4Repl\n",
      "Build completed successfully.\n"
     ]
    },
    {
     "ename": "FileExistsError",
     "evalue": "[Errno 17] File exists: 'lean4-example'",
     "output_type": "error",
     "traceback": [
      "\u001b[31m---------------------------------------------------------------------------\u001b[39m",
      "\u001b[31mFileExistsError\u001b[39m                           Traceback (most recent call last)",
      "\u001b[36mCell\u001b[39m\u001b[36m \u001b[39m\u001b[32mIn[2]\u001b[39m\u001b[32m, line 4\u001b[39m\n\u001b[32m      1\u001b[39m \u001b[38;5;28;01mfrom\u001b[39;00m\u001b[38;5;250m \u001b[39m\u001b[34;01mlean_dojo\u001b[39;00m\u001b[38;5;250m \u001b[39m\u001b[38;5;28;01mimport\u001b[39;00m LeanGitRepo, trace\n\u001b[32m      3\u001b[39m repo = LeanGitRepo(\u001b[33m\"\u001b[39m\u001b[33mhttps://github.com/lucyhorowitz/lean4-example\u001b[39m\u001b[33m\"\u001b[39m, \u001b[33m\"\u001b[39m\u001b[33m35c68b1aa9a7ad1290db7471e5b9d3aa8d25912d\u001b[39m\u001b[33m\"\u001b[39m)\n\u001b[32m----> \u001b[39m\u001b[32m4\u001b[39m \u001b[43mtrace\u001b[49m\u001b[43m(\u001b[49m\u001b[43mrepo\u001b[49m\u001b[43m,\u001b[49m\u001b[43m \u001b[49m\u001b[43mdst_dir\u001b[49m\u001b[43m=\u001b[49m\u001b[33;43m\"\u001b[39;49m\u001b[33;43mtraced\u001b[39;49m\u001b[33;43m\"\u001b[39;49m\u001b[43m,\u001b[49m\u001b[43m \u001b[49m\u001b[43mbuild_deps\u001b[49m\u001b[43m=\u001b[49m\u001b[38;5;28;43;01mFalse\u001b[39;49;00m\u001b[43m)\u001b[49m\n",
      "\u001b[36mFile \u001b[39m\u001b[32m~/Documents/GitHub/LeanDojo/src/lean_dojo/data_extraction/trace.py:247\u001b[39m, in \u001b[36mtrace\u001b[39m\u001b[34m(repo, dst_dir, build_deps)\u001b[39m\n\u001b[32m    242\u001b[39m     dst_dir = Path(dst_dir)\n\u001b[32m    243\u001b[39m     \u001b[38;5;28;01massert\u001b[39;00m (\n\u001b[32m    244\u001b[39m         \u001b[38;5;129;01mnot\u001b[39;00m dst_dir.exists()\n\u001b[32m    245\u001b[39m     ), \u001b[33mf\u001b[39m\u001b[33m\"\u001b[39m\u001b[33mThe destination directory \u001b[39m\u001b[38;5;132;01m{\u001b[39;00mdst_dir\u001b[38;5;132;01m}\u001b[39;00m\u001b[33m already exists.\u001b[39m\u001b[33m\"\u001b[39m\n\u001b[32m--> \u001b[39m\u001b[32m247\u001b[39m cached_path = \u001b[43mget_traced_repo_path\u001b[49m\u001b[43m(\u001b[49m\u001b[43mrepo\u001b[49m\u001b[43m,\u001b[49m\u001b[43m \u001b[49m\u001b[43mbuild_deps\u001b[49m\u001b[43m)\u001b[49m\n\u001b[32m    248\u001b[39m logger.info(\u001b[33mf\u001b[39m\u001b[33m\"\u001b[39m\u001b[33mLoading the traced repo from \u001b[39m\u001b[38;5;132;01m{\u001b[39;00mcached_path\u001b[38;5;132;01m}\u001b[39;00m\u001b[33m\"\u001b[39m)\n\u001b[32m    249\u001b[39m traced_repo = TracedRepo.load_from_disk(cached_path, build_deps)\n",
      "\u001b[36mFile \u001b[39m\u001b[32m~/Documents/GitHub/LeanDojo/src/lean_dojo/data_extraction/trace.py:215\u001b[39m, in \u001b[36mget_traced_repo_path\u001b[39m\u001b[34m(repo, build_deps)\u001b[39m\n\u001b[32m    213\u001b[39m _trace(repo, build_deps)\n\u001b[32m    214\u001b[39m src_dir = tmp_dir / repo.name\n\u001b[32m--> \u001b[39m\u001b[32m215\u001b[39m traced_repo = \u001b[43mTracedRepo\u001b[49m\u001b[43m.\u001b[49m\u001b[43mfrom_traced_files\u001b[49m\u001b[43m(\u001b[49m\u001b[43msrc_dir\u001b[49m\u001b[43m,\u001b[49m\u001b[43m \u001b[49m\u001b[43mbuild_deps\u001b[49m\u001b[43m)\u001b[49m\n\u001b[32m    216\u001b[39m traced_repo.save_to_disk()\n\u001b[32m    217\u001b[39m path = cache.store(src_dir, rel_cache_dir)\n",
      "\u001b[36mFile \u001b[39m\u001b[32m~/Documents/GitHub/LeanDojo/src/lean_dojo/data_extraction/traced_data.py:1110\u001b[39m, in \u001b[36mTracedRepo.from_traced_files\u001b[39m\u001b[34m(cls, root_dir, build_deps)\u001b[39m\n\u001b[32m   1108\u001b[39m \u001b[38;5;28;01mif\u001b[39;00m \u001b[38;5;129;01mnot\u001b[39;00m is_git_repo(root_dir):\n\u001b[32m   1109\u001b[39m     \u001b[38;5;28;01mraise\u001b[39;00m \u001b[38;5;167;01mRuntimeError\u001b[39;00m(\u001b[33mf\u001b[39m\u001b[33m\"\u001b[39m\u001b[38;5;132;01m{\u001b[39;00mroot_dir\u001b[38;5;132;01m}\u001b[39;00m\u001b[33m is not a Git repo.\u001b[39m\u001b[33m\"\u001b[39m)\n\u001b[32m-> \u001b[39m\u001b[32m1110\u001b[39m repo = \u001b[43mLeanGitRepo\u001b[49m\u001b[43m.\u001b[49m\u001b[43mfrom_path\u001b[49m\u001b[43m(\u001b[49m\u001b[43mroot_dir\u001b[49m\u001b[43m)\u001b[49m\n\u001b[32m   1112\u001b[39m json_paths = \u001b[38;5;28mlist\u001b[39m(root_dir.glob(\u001b[33m\"\u001b[39m\u001b[33m**/*.ast.json\u001b[39m\u001b[33m\"\u001b[39m))\n\u001b[32m   1113\u001b[39m random.shuffle(json_paths)\n",
      "\u001b[36mFile \u001b[39m\u001b[32m~/Documents/GitHub/LeanDojo/src/lean_dojo/data_extraction/lean.py:596\u001b[39m, in \u001b[36mLeanGitRepo.from_path\u001b[39m\u001b[34m(cls, path)\u001b[39m\n\u001b[32m    594\u001b[39m \u001b[38;5;250m\u001b[39m\u001b[33;03m\"\"\"Construct a :class:`LeanGitRepo` object from the path to a local Git repo.\"\"\"\u001b[39;00m\n\u001b[32m    595\u001b[39m commit = Repo(path).head.commit.hexsha\n\u001b[32m--> \u001b[39m\u001b[32m596\u001b[39m \u001b[38;5;28;01mreturn\u001b[39;00m \u001b[38;5;28;43mcls\u001b[39;49m\u001b[43m(\u001b[49m\u001b[38;5;28;43mstr\u001b[39;49m\u001b[43m(\u001b[49m\u001b[43mpath\u001b[49m\u001b[43m)\u001b[49m\u001b[43m,\u001b[49m\u001b[43m \u001b[49m\u001b[43mcommit\u001b[49m\u001b[43m)\u001b[49m\n",
      "\u001b[36mFile \u001b[39m\u001b[32m<string>:5\u001b[39m, in \u001b[36m__init__\u001b[39m\u001b[34m(self, url, commit)\u001b[39m\n",
      "\u001b[36mFile \u001b[39m\u001b[32m~/Documents/GitHub/LeanDojo/src/lean_dojo/data_extraction/lean.py:560\u001b[39m, in \u001b[36mLeanGitRepo.__post_init__\u001b[39m\u001b[34m(self)\u001b[39m\n\u001b[32m    558\u001b[39m \u001b[38;5;28;01mif\u001b[39;00m cache_repo_dir \u001b[38;5;129;01mis\u001b[39;00m \u001b[38;5;28;01mNone\u001b[39;00m:\n\u001b[32m    559\u001b[39m     \u001b[38;5;28;01mwith\u001b[39;00m working_directory() \u001b[38;5;28;01mas\u001b[39;00m tmp_dir:\n\u001b[32m--> \u001b[39m\u001b[32m560\u001b[39m         repo = \u001b[43murl_to_repo\u001b[49m\u001b[43m(\u001b[49m\u001b[38;5;28;43mself\u001b[39;49m\u001b[43m.\u001b[49m\u001b[43murl\u001b[49m\u001b[43m,\u001b[49m\u001b[43m \u001b[49m\u001b[43mrepo_type\u001b[49m\u001b[43m=\u001b[49m\u001b[43mrepo_type\u001b[49m\u001b[43m,\u001b[49m\u001b[43m \u001b[49m\u001b[43mtmp_dir\u001b[49m\u001b[43m=\u001b[49m\u001b[43mtmp_dir\u001b[49m\u001b[43m)\u001b[49m\n\u001b[32m    561\u001b[39m         commit = _to_commit_hash(repo, \u001b[38;5;28mself\u001b[39m.commit)\n\u001b[32m    562\u001b[39m         cache_repo_dir = repo_cache.store(\n\u001b[32m    563\u001b[39m             repo.working_dir, rel_cache_dir(\u001b[38;5;28mself\u001b[39m.url, commit)\n\u001b[32m    564\u001b[39m         )\n",
      "\u001b[36mFile \u001b[39m\u001b[32m~/Documents/GitHub/LeanDojo/src/lean_dojo/data_extraction/lean.py:169\u001b[39m, in \u001b[36murl_to_repo\u001b[39m\u001b[34m(url, num_retries, repo_type, tmp_dir)\u001b[39m\n\u001b[32m    167\u001b[39m \u001b[38;5;28;01mexcept\u001b[39;00m \u001b[38;5;167;01mException\u001b[39;00m \u001b[38;5;28;01mas\u001b[39;00m ex:\n\u001b[32m    168\u001b[39m     \u001b[38;5;28;01mif\u001b[39;00m num_retries <= \u001b[32m0\u001b[39m:\n\u001b[32m--> \u001b[39m\u001b[32m169\u001b[39m         \u001b[38;5;28;01mraise\u001b[39;00m ex\n\u001b[32m    170\u001b[39m     num_retries -= \u001b[32m1\u001b[39m\n\u001b[32m    171\u001b[39m     logger.debug(\u001b[33mf\u001b[39m\u001b[33m'\u001b[39m\u001b[33murl_to_repo(\u001b[39m\u001b[33m\"\u001b[39m\u001b[38;5;132;01m{\u001b[39;00murl\u001b[38;5;132;01m}\u001b[39;00m\u001b[33m\"\u001b[39m\u001b[33m) failed. Retrying...\u001b[39m\u001b[33m'\u001b[39m)\n",
      "\u001b[36mFile \u001b[39m\u001b[32m~/Documents/GitHub/LeanDojo/src/lean_dojo/data_extraction/lean.py:163\u001b[39m, in \u001b[36murl_to_repo\u001b[39m\u001b[34m(url, num_retries, repo_type, tmp_dir)\u001b[39m\n\u001b[32m    161\u001b[39m \u001b[38;5;28;01mif\u001b[39;00m repo_type == RepoType.LOCAL:\n\u001b[32m    162\u001b[39m     \u001b[38;5;28;01massert\u001b[39;00m is_git_repo(url), \u001b[33mf\u001b[39m\u001b[33m\"\u001b[39m\u001b[33mLocal path \u001b[39m\u001b[38;5;132;01m{\u001b[39;00murl\u001b[38;5;132;01m}\u001b[39;00m\u001b[33m is not a git repo\u001b[39m\u001b[33m\"\u001b[39m\n\u001b[32m--> \u001b[39m\u001b[32m163\u001b[39m     \u001b[43mshutil\u001b[49m\u001b[43m.\u001b[49m\u001b[43mcopytree\u001b[49m\u001b[43m(\u001b[49m\u001b[43murl\u001b[49m\u001b[43m,\u001b[49m\u001b[43m \u001b[49m\u001b[43mrepo_name\u001b[49m\u001b[43m)\u001b[49m\n\u001b[32m    164\u001b[39m     \u001b[38;5;28;01mreturn\u001b[39;00m Repo(repo_name)\n\u001b[32m    165\u001b[39m \u001b[38;5;28;01melse\u001b[39;00m:\n",
      "\u001b[36mFile \u001b[39m\u001b[32m/opt/miniconda3/envs/leandojo311/lib/python3.11/shutil.py:573\u001b[39m, in \u001b[36mcopytree\u001b[39m\u001b[34m(src, dst, symlinks, ignore, copy_function, ignore_dangling_symlinks, dirs_exist_ok)\u001b[39m\n\u001b[32m    571\u001b[39m \u001b[38;5;28;01mwith\u001b[39;00m os.scandir(src) \u001b[38;5;28;01mas\u001b[39;00m itr:\n\u001b[32m    572\u001b[39m     entries = \u001b[38;5;28mlist\u001b[39m(itr)\n\u001b[32m--> \u001b[39m\u001b[32m573\u001b[39m \u001b[38;5;28;01mreturn\u001b[39;00m \u001b[43m_copytree\u001b[49m\u001b[43m(\u001b[49m\u001b[43mentries\u001b[49m\u001b[43m=\u001b[49m\u001b[43mentries\u001b[49m\u001b[43m,\u001b[49m\u001b[43m \u001b[49m\u001b[43msrc\u001b[49m\u001b[43m=\u001b[49m\u001b[43msrc\u001b[49m\u001b[43m,\u001b[49m\u001b[43m \u001b[49m\u001b[43mdst\u001b[49m\u001b[43m=\u001b[49m\u001b[43mdst\u001b[49m\u001b[43m,\u001b[49m\u001b[43m \u001b[49m\u001b[43msymlinks\u001b[49m\u001b[43m=\u001b[49m\u001b[43msymlinks\u001b[49m\u001b[43m,\u001b[49m\n\u001b[32m    574\u001b[39m \u001b[43m                 \u001b[49m\u001b[43mignore\u001b[49m\u001b[43m=\u001b[49m\u001b[43mignore\u001b[49m\u001b[43m,\u001b[49m\u001b[43m \u001b[49m\u001b[43mcopy_function\u001b[49m\u001b[43m=\u001b[49m\u001b[43mcopy_function\u001b[49m\u001b[43m,\u001b[49m\n\u001b[32m    575\u001b[39m \u001b[43m                 \u001b[49m\u001b[43mignore_dangling_symlinks\u001b[49m\u001b[43m=\u001b[49m\u001b[43mignore_dangling_symlinks\u001b[49m\u001b[43m,\u001b[49m\n\u001b[32m    576\u001b[39m \u001b[43m                 \u001b[49m\u001b[43mdirs_exist_ok\u001b[49m\u001b[43m=\u001b[49m\u001b[43mdirs_exist_ok\u001b[49m\u001b[43m)\u001b[49m\n",
      "\u001b[36mFile \u001b[39m\u001b[32m/opt/miniconda3/envs/leandojo311/lib/python3.11/shutil.py:471\u001b[39m, in \u001b[36m_copytree\u001b[39m\u001b[34m(entries, src, dst, symlinks, ignore, copy_function, ignore_dangling_symlinks, dirs_exist_ok)\u001b[39m\n\u001b[32m    468\u001b[39m \u001b[38;5;28;01melse\u001b[39;00m:\n\u001b[32m    469\u001b[39m     ignored_names = ()\n\u001b[32m--> \u001b[39m\u001b[32m471\u001b[39m \u001b[43mos\u001b[49m\u001b[43m.\u001b[49m\u001b[43mmakedirs\u001b[49m\u001b[43m(\u001b[49m\u001b[43mdst\u001b[49m\u001b[43m,\u001b[49m\u001b[43m \u001b[49m\u001b[43mexist_ok\u001b[49m\u001b[43m=\u001b[49m\u001b[43mdirs_exist_ok\u001b[49m\u001b[43m)\u001b[49m\n\u001b[32m    472\u001b[39m errors = []\n\u001b[32m    473\u001b[39m use_srcentry = copy_function \u001b[38;5;129;01mis\u001b[39;00m copy2 \u001b[38;5;129;01mor\u001b[39;00m copy_function \u001b[38;5;129;01mis\u001b[39;00m copy\n",
      "\u001b[36mFile \u001b[39m\u001b[32m<frozen os>:225\u001b[39m, in \u001b[36mmakedirs\u001b[39m\u001b[34m(name, mode, exist_ok)\u001b[39m\n",
      "\u001b[31mFileExistsError\u001b[39m: [Errno 17] File exists: 'lean4-example'"
     ]
    }
   ],
   "source": [
    "from lean_dojo import LeanGitRepo, trace\n",
    "\n",
    "repo = LeanGitRepo(\"https://github.com/lucyhorowitz/lean4-example\", \"35c68b1aa9a7ad1290db7471e5b9d3aa8d25912d\")\n",
    "trace(repo, dst_dir=\"traced\", build_deps=False)"
   ]
  },
  {
   "cell_type": "code",
   "execution_count": null,
   "id": "3ce5509e",
   "metadata": {},
   "outputs": [],
   "source": []
  },
  {
   "cell_type": "code",
   "execution_count": null,
   "id": "9d57332f",
   "metadata": {},
   "outputs": [],
   "source": [
    "#!/usr/bin/env python3\n",
    "\n"
   ]
  }
 ],
 "metadata": {
  "kernelspec": {
   "display_name": "leandojo311",
   "language": "python",
   "name": "python3"
  },
  "language_info": {
   "codemirror_mode": {
    "name": "ipython",
    "version": 3
   },
   "file_extension": ".py",
   "mimetype": "text/x-python",
   "name": "python",
   "nbconvert_exporter": "python",
   "pygments_lexer": "ipython3",
   "version": "3.11.11"
  }
 },
 "nbformat": 4,
 "nbformat_minor": 5
}
